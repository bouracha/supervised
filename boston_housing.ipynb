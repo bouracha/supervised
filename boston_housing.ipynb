{
 "cells": [
  {
   "cell_type": "code",
   "execution_count": 27,
   "metadata": {},
   "outputs": [],
   "source": [
    "import numpy as np\n",
    "from matplotlib import pyplot as plt\n",
    "from scipy.linalg import solve\n",
    "import pandas as pd"
   ]
  },
  {
   "cell_type": "code",
   "execution_count": 2,
   "metadata": {},
   "outputs": [],
   "source": [
    "def get_w(X,y):\n",
    "    w = ((np.linalg.inv((np.transpose(X).dot(X))).dot(np.transpose(X))).dot(y))\n",
    "    return w"
   ]
  },
  {
   "cell_type": "code",
   "execution_count": 254,
   "metadata": {},
   "outputs": [],
   "source": [
    "def det_MSE(X,w,y):\n",
    "    y = np.matrix(y)\n",
    "    w = w.T\n",
    "    y = y.T\n",
    "    m, n = X.shape\n",
    "    MSE = 1.0/m * (np.transpose(X.dot(w)-y)).dot(X.dot(w)-y)\n",
    "\n",
    "    return MSE.item(0)"
   ]
  },
  {
   "cell_type": "code",
   "execution_count": 354,
   "metadata": {},
   "outputs": [],
   "source": [
    "def plot_feature(w, range_min=0, range_max=5):\n",
    "    degree = w.shape[1]\n",
    "    x = np.linspace(range_min, range_max,100)\n",
    "    x.reshape(100,1)\n",
    "    y = 0\n",
    "    for i in range(0, 2):\n",
    "        y = y + w.item(1)*x + w.item(0)\n",
    "    \n",
    "    plt.plot(x ,y,'-')\n",
    "    "
   ]
  },
  {
   "cell_type": "markdown",
   "metadata": {},
   "source": [
    "## Baseline Vs full Linear regression"
   ]
  },
  {
   "cell_type": "code",
   "execution_count": 326,
   "metadata": {},
   "outputs": [],
   "source": [
    "def train_test_split(train_data, test_data, feature_cols, target_col):\n",
    "    \n",
    "    X_train = np.ones((len(train_data), 1))\n",
    "    X_train = np.append(train_data[:, feature_cols], X_train, axis=1) \n",
    "    y_train = train_data[:, target_col]\n",
    "    \n",
    "    X_test = np.ones((len(test_data), 1))\n",
    "    X_test = np.append(test_data[:, feature_cols], X_test, axis=1) \n",
    "    y_test = test_data[:, target_col]\n",
    "    \n",
    "    return X_train, y_train, X_test, y_test"
   ]
  },
  {
   "cell_type": "code",
   "execution_count": 327,
   "metadata": {},
   "outputs": [],
   "source": [
    "def random_subdata_extraction_ratio(data, extraction_ratio, seed):\n",
    "    shuffled_indices = np.random.permutation(len(data))\n",
    "    extract_set_size = int(len(data)*extraction_ratio)\n",
    "    extract_indices = shuffled_indices[:extract_set_size]\n",
    "    remain_indices = shuffled_indices[extract_set_size:]\n",
    "    \n",
    "    extract_rows = data[extract_indices, :]\n",
    "    remain_rows = data[remain_indices, :]\n",
    "    \n",
    "    #print extract_rows.shape\n",
    "    #print remain_rows.shape\n",
    "    \n",
    "    return remain_rows, extract_rows"
   ]
  },
  {
   "cell_type": "code",
   "execution_count": 133,
   "metadata": {},
   "outputs": [],
   "source": [
    "data = np.loadtxt('boston.txt')"
   ]
  },
  {
   "cell_type": "code",
   "execution_count": 134,
   "metadata": {},
   "outputs": [],
   "source": [
    "train_data, test_data = random_subdata_extraction_ratio(data, extraction_ratio = 1.0/3.0, seed = 1)"
   ]
  },
  {
   "cell_type": "code",
   "execution_count": 135,
   "metadata": {},
   "outputs": [],
   "source": [
    "feature_cols = [0, 1, 2, 3, 4, 5, 6, 7, 8, 9, 10, 11, 12]"
   ]
  },
  {
   "cell_type": "code",
   "execution_count": 136,
   "metadata": {},
   "outputs": [],
   "source": [
    "target_col = [13]"
   ]
  },
  {
   "cell_type": "code",
   "execution_count": 137,
   "metadata": {},
   "outputs": [],
   "source": [
    "X_train, y_train, X_test, y_test = train_test_split(train_data, test_data, feature_cols, target_col)"
   ]
  },
  {
   "cell_type": "code",
   "execution_count": 138,
   "metadata": {},
   "outputs": [
    {
     "data": {
      "text/plain": [
       "(338, 13)"
      ]
     },
     "execution_count": 138,
     "metadata": {},
     "output_type": "execute_result"
    }
   ],
   "source": [
    "X_train.shape"
   ]
  },
  {
   "cell_type": "markdown",
   "metadata": {},
   "source": [
    "## 4a"
   ]
  },
  {
   "cell_type": "code",
   "execution_count": 312,
   "metadata": {},
   "outputs": [],
   "source": [
    "def train(data, test_train_ratio, feature_cols, target_col, num_models=20):\n",
    "    MSE_list = []\n",
    "    MSE_test_list = []\n",
    "    \n",
    "    for i in range(0, num_models+1):\n",
    "        \n",
    "        train_data, test_data = random_subdata_extraction_ratio(data, extraction_ratio = 1.0/3.0, seed = i)\n",
    "        X_train, y_train, X_test, y_test = train_test_split(train_data, test_data, feature_cols, target_col)\n",
    "        \n",
    "        w = get_w(X_train,y_train)\n",
    "        \n",
    "        MSE_list.append(det_MSE(X_train, w.T, y_train))\n",
    "        MSE_test_list.append(det_MSE(X_test, w.T, y_test))\n",
    "        \n",
    "    avg_MSE_train = np.array(MSE_list).mean()\n",
    "    avg_MSE_test = np.array(MSE_test_list).mean()\n",
    "    \n",
    "    return w, avg_MSE_train, avg_MSE_test"
   ]
  },
  {
   "cell_type": "code",
   "execution_count": 341,
   "metadata": {},
   "outputs": [],
   "source": [
    "feature_cols = [0]\n",
    "target_col = [13]"
   ]
  },
  {
   "cell_type": "code",
   "execution_count": 342,
   "metadata": {},
   "outputs": [],
   "source": [
    "w, MSE_train, MSE_test = train(data, 1.0/3.0, feature_cols, target_col, num_models=2000)"
   ]
  },
  {
   "cell_type": "code",
   "execution_count": 343,
   "metadata": {},
   "outputs": [
    {
     "data": {
      "text/plain": [
       "array([[-0.41594955],\n",
       "       [23.75627801]])"
      ]
     },
     "execution_count": 343,
     "metadata": {},
     "output_type": "execute_result"
    }
   ],
   "source": [
    "w"
   ]
  },
  {
   "cell_type": "code",
   "execution_count": 344,
   "metadata": {},
   "outputs": [
    {
     "data": {
      "text/plain": [
       "102.09332474292587"
      ]
     },
     "execution_count": 344,
     "metadata": {},
     "output_type": "execute_result"
    }
   ],
   "source": [
    "MSE_train"
   ]
  },
  {
   "cell_type": "code",
   "execution_count": 345,
   "metadata": {},
   "outputs": [
    {
     "data": {
      "text/plain": [
       "100.40754342021478"
      ]
     },
     "execution_count": 345,
     "metadata": {},
     "output_type": "execute_result"
    }
   ],
   "source": [
    "MSE_test"
   ]
  },
  {
   "cell_type": "code",
   "execution_count": 355,
   "metadata": {},
   "outputs": [
    {
     "data": {
      "image/png": "[encoded data removed]",
      "text/plain": [
       "<Figure size 432x288 with 1 Axes>"
      ]
     },
     "metadata": {
      "needs_background": "light"
     },
     "output_type": "display_data"
    }
   ],
   "source": [
    "plot_feature(w, range_min=0, range_max=5)"
   ]
  },
  {
   "cell_type": "markdown",
   "metadata": {},
   "source": [
    "## 4c"
   ]
  },
  {
   "cell_type": "code",
   "execution_count": 328,
   "metadata": {
    "scrolled": false
   },
   "outputs": [
    {
     "name": "stdout",
     "output_type": "stream",
     "text": [
      "For feature  0\n",
      " w:  [[-0.43635127]\n",
      " [24.49071866]]\n",
      " MSE Train:  95.90715586091522  MSE_test:  100.54397073871515\n",
      "For feature  1\n",
      " w:  [[ 0.14608876]\n",
      " [21.26008077]]\n",
      " MSE Train:  96.50852160043262  MSE_test:  92.91115103119463\n",
      "For feature  2\n",
      " w:  [[-0.61474152]\n",
      " [29.34160439]]\n",
      " MSE Train:  101.37132184130755  MSE_test:  99.28896402702922\n",
      "For feature  3\n",
      " w:  [[ 4.7727707]\n",
      " [22.6022293]]\n",
      " MSE Train:  83.06181816442259  MSE_test:  90.41554286662492\n",
      "For feature  4\n",
      " w:  [[-33.84376916]\n",
      " [ 41.52067001]]\n",
      " MSE Train:  98.13784838695584  MSE_test:  96.6081390472634\n",
      "For feature  5\n",
      " w:  [[  8.79150501]\n",
      " [-32.65257247]]\n",
      " MSE Train:  123.98727262193042  MSE_test:  125.23923246780183\n",
      "For feature  6\n",
      " w:  [[-0.12625113]\n",
      " [31.32918818]]\n",
      " MSE Train:  99.4551921819668  MSE_test:  92.53312958153279\n",
      "For feature  7\n",
      " w:  [[ 1.16303936]\n",
      " [17.21150168]]\n",
      " MSE Train:  88.4419775945756  MSE_test:  89.97452051237059\n",
      "For feature  8\n",
      " w:  [[-0.44305315]\n",
      " [26.77115891]]\n",
      " MSE Train:  94.49308493027578  MSE_test:  102.61116791079333\n",
      "For feature  9\n",
      " w:  [[-2.79377218e-02]\n",
      " [ 3.40079366e+01]]\n",
      " MSE Train:  95.73538163791545  MSE_test:  102.45292263455825\n",
      "For feature  10\n",
      " w:  [[-2.16376261]\n",
      " [62.08688614]]\n",
      " MSE Train:  108.36160951091203  MSE_test:  111.34072525447259\n",
      "For feature  11\n",
      " w:  [[0.03682184]\n",
      " [9.31000586]]\n",
      " MSE Train:  92.13200177464535  MSE_test:  97.09815325247527\n",
      "For feature  12\n",
      " w:  [[-0.94137579]\n",
      " [34.23385817]]\n",
      " MSE Train:  135.68044600627474  MSE_test:  125.72031484597001\n"
     ]
    }
   ],
   "source": [
    "for i in range(0,13):\n",
    "\n",
    "    feature_cols = [i]\n",
    "    target_col = [13]\n",
    "    w, MSE_train, MSE_test = train(data, 1.0/3.0, feature_cols, target_col, num_models=2000)\n",
    "    \n",
    "    print \"For feature \", i\n",
    "    print \" w: \", w\n",
    "    print \" MSE Train: \", MSE_train, \" MSE_test: \", MSE_test"
   ]
  },
  {
   "cell_type": "code",
   "execution_count": null,
   "metadata": {},
   "outputs": [],
   "source": []
  }
 ],
 "metadata": {
  "kernelspec": {
   "display_name": "Python 2",
   "language": "python",
   "name": "python2"
  },
  "language_info": {
   "codemirror_mode": {
    "name": "ipython",
    "version": 2
   },
   "file_extension": ".py",
   "mimetype": "text/x-python",
   "name": "python",
   "nbconvert_exporter": "python",
   "pygments_lexer": "ipython2",
   "version": "2.7.10"
  }
 },
 "nbformat": 4,
 "nbformat_minor": 2
}
